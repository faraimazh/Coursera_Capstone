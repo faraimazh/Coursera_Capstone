{
 "cells": [
  {
   "cell_type": "markdown",
   "metadata": {},
   "source": [
    "<h2 align=center><font size=6>Capstone Project - The Battle of the Neighborhoods (Week 1)</font></h2>\n",
    "<h2 align=center><font size=5>Applied Data Science Capstone by IBM/Coursera</font></h2>\n",
    "<h2 align=center><font size=5>Introduction and problem definition.</font></h2>\n",
    "<h2 align=center><font size = 4>Choosing the best neighborhood to locate a tech start-up in New York City</font></h2>\n",
    "\n",
    "No matter where in the world you are considering building a startup, you are bound to be both nervous and anxious. For an entrepreneur, it can be nerve-wracking attempting to maneuver through a big city looking for a suitable location to establish company operations. Location is one of the pivotal points of consideration and can affect almost every aspect of the company. Taking the time to investigate multiple locations wastes both time and money. It is judicious to ask for the services of a data scientist so that they recommend the most suitable location based on agreed criteria. \n",
    "\n",
    "For this project, an Enterprise IoT Consultant is starting their own business in the city of New York. The major question we seek to answer is; 'Where would we recommend that a technology start-up set up their office in the city of New York?' \n",
    "\n",
    "Where to locate the business depends in part on the location of the target market (major industrial companies), business partners (technology companies), and personal preferences (shared workspaces like WeWork near the subway and airport). \n",
    "\n",
    "We aim to come up with clusters of recommended neighborhoods and offer our client options to consider as they select the most suitable location."
   ]
  },
  {
   "cell_type": "code",
   "execution_count": null,
   "metadata": {},
   "outputs": [],
   "source": []
  }
 ],
 "metadata": {
  "kernelspec": {
   "display_name": "Python",
   "language": "python",
   "name": "conda-env-python-py"
  },
  "language_info": {
   "codemirror_mode": {
    "name": "ipython",
    "version": 3
   },
   "file_extension": ".py",
   "mimetype": "text/x-python",
   "name": "python",
   "nbconvert_exporter": "python",
   "pygments_lexer": "ipython3",
   "version": "3.6.7"
  }
 },
 "nbformat": 4,
 "nbformat_minor": 4
}
